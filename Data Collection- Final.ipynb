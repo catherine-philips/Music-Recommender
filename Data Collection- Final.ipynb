{
 "cells": [
  {
   "cell_type": "code",
   "execution_count": 1,
   "metadata": {
    "colab": {
     "base_uri": "https://localhost:8080/"
    },
    "id": "SwBW48LOHFIo",
    "outputId": "422f1c44-fba5-48e5-d267-75cbc49ab234"
   },
   "outputs": [
    {
     "name": "stdout",
     "output_type": "stream",
     "text": [
      "Collecting spotipy\n",
      "  Downloading spotipy-2.23.0-py3-none-any.whl (29 kB)\n",
      "Collecting redis>=3.5.3 (from spotipy)\n",
      "  Downloading redis-4.6.0-py3-none-any.whl (241 kB)\n",
      "                                              0.0/241.1 kB ? eta -:--:--\n",
      "     -------------------------------------- 241.1/241.1 kB 7.2 MB/s eta 0:00:00\n",
      "Requirement already satisfied: requests>=2.25.0 in c:\\users\\catherine247\\anaconda3\\lib\\site-packages (from spotipy) (2.29.0)\n",
      "Requirement already satisfied: six>=1.15.0 in c:\\users\\catherine247\\anaconda3\\lib\\site-packages (from spotipy) (1.16.0)\n",
      "Requirement already satisfied: urllib3>=1.26.0 in c:\\users\\catherine247\\anaconda3\\lib\\site-packages (from spotipy) (1.26.16)\n",
      "Requirement already satisfied: charset-normalizer<4,>=2 in c:\\users\\catherine247\\anaconda3\\lib\\site-packages (from requests>=2.25.0->spotipy) (2.0.4)\n",
      "Requirement already satisfied: idna<4,>=2.5 in c:\\users\\catherine247\\anaconda3\\lib\\site-packages (from requests>=2.25.0->spotipy) (3.4)\n",
      "Requirement already satisfied: certifi>=2017.4.17 in c:\\users\\catherine247\\anaconda3\\lib\\site-packages (from requests>=2.25.0->spotipy) (2023.5.7)\n",
      "Installing collected packages: redis, spotipy\n",
      "Successfully installed redis-4.6.0 spotipy-2.23.0\n",
      "Note: you may need to restart the kernel to use updated packages.\n"
     ]
    }
   ],
   "source": [
    "pip install spotipy"
   ]
  },
  {
   "cell_type": "code",
   "execution_count": 1,
   "metadata": {
    "id": "VeuNGsQr4GN6"
   },
   "outputs": [],
   "source": [
    "import spotipy\n",
    "from spotipy.oauth2 import SpotifyClientCredentials\n",
    "import pandas as pd\n",
    "\n",
    "# Spotify API credentials\n",
    "id = '254a632e1a4e4bc18edccae341fbfd53'\n",
    "secret = 'cac8ae8ba6bb4888be4fecc1f953dbc8'\n",
    "\n",
    "# Playlists URLs #57 playlists\n",
    "links = ['37i9dQZF1DX08mhnhv6g9b','37i9dQZF1DWYlCv3D85m6m','37i9dQZF1DWXa2ShUct1Fm',\n",
    "                 '37i9dQZF1DX2pmk7QemwOu', '37i9dQZF1DWWqjEVD8TBr9','37i9dQZF1DZ06evO0s79KM',\n",
    "                 '37i9dQZF1DX8To4GlhTfpA','37i9dQZF1DX7ZHn4SQHDIn','37i9dQZF1DX6pLfLmbGM3d',\n",
    "                 '6DKS8A39gx63rlgG0gNcbV','37i9dQZF1DX0q3zClOVaZA','37i9dQZF1DWW5pERGrNVob',\n",
    "                 '37i9dQZF1DX8kP0ioXjxIA','37i9dQZF1DX78tHDcKCzXN','37i9dQZF1DX14fiWYoe7Oh',\n",
    "                 '37i9dQZF1DX4FcAKI5Nhzq','37i9dQZF1DX5LEXW9eXA0n','37i9dQZF1DX7pEH2GWGnSP',\n",
    "                 '37i9dQZF1DX2ohL85TE8TI','37i9dQZF1DWUoY6Ih7vsxr','37i9dQZF1DX5CHJY6ZqPPz','37i9dQZF1DX5wcLXSDDcgy',\n",
    "                 '37i9dQZF1DX7H4XpyC9TgJ','37i9dQZF1DX4NMZ4UC3NCh','37i9dQZF1DXdVUsw2RlcPf','37i9dQZF1DXdRupnl9NVKn',\n",
    "                 '37i9dQZF1DXdlpBrO6fF3s','37i9dQZF1DWW46Vfs1oltB','3P4E2aY9cPJSpu35WUxyFk','2TJHOlrTUoLMHs9CTyxN9n',\n",
    "                 '1uFmFdP4khly2qaImrnOz0','64iHyBIAwzhvia5eMyDZOK','37i9dQZF1DZ06evO1iuhCy','37i9dQZF1DZ06evO4iVAaK',\n",
    "                 '5NnA3hGqeu4OtuEWHTTWgG','37i9dQZF1DWUXxc8Mc6MmJ','5T6rcfAiDrFNn90PXbZXQ3','1udLD0opZ03tk3BsKEjxWm',\n",
    "                 '37i9dQZF1DX2CLoLFwNFP1','37i9dQZF1DX0y9CwEpdGpz','37i9dQZF1DZ06evO45ajpD','37i9dQZF1DZ06evO4ujbFw',\n",
    "         '37i9dQZF1DZ06evO21Uf74','37i9dQZF1DXdYwX3Ds2dLJ','37i9dQZF1DX5wTRh9H8LSC','37i9dQZF1DZ06evO3zXxiE',\n",
    "        '37i9dQZF1DX7yD3GiuEB7x','37i9dQZF1DX9olwNXZEPVC','37i9dQZF1DWSvP5HMve5xc','37i9dQZF1DXdoZRFedvgBm',\n",
    "        '37i9dQZF1DWVGwK1DVdGDJ','37i9dQZF1DWX7FdKM0unn8','37i9dQZF1DX53hLvTvX3eQ','37i9dQZF1DX4bUiDosd2wg',\n",
    "        '37i9dQZF1DX4Pm0RFqsA0C','37i9dQZF1DX8cV4ZaSfaxp','37i9dQZF1DX6i7txhF59QA','37i9dQZF1DX7yD3GiuEB7x',\n",
    "        '37i9dQZF1DZ06evO3s12HS','37i9dQZF1DX0AAiNzeZDgc','37i9dQZF1DX44JzWntsLKr ','37i9dQZF1DZ06evO2kK5P2',\n",
    "         '37i9dQZF1DX5JcPJgYjGcf']\n",
    "\n",
    "def extract_genres(artist_id):\n",
    "    try:\n",
    "        if artist_id is not None:\n",
    "            artist_info = sp.artist(artist_id)\n",
    "            genres = artist_info['genres']\n",
    "            if genres:\n",
    "                return genres[0]  \n",
    "            else:\n",
    "                return \"\"  \n",
    "        else:\n",
    "            return \"\"  \n",
    "    except spotipy.SpotifyException:\n",
    "        return \"\"  \n",
    "\n",
    "# Initialize spotipy client\n",
    "auth_manager = SpotifyClientCredentials(client_id=id, client_secret=secret)\n",
    "sp = spotipy.Spotify(auth_manager=auth_manager)\n",
    "\n",
    "\n"
   ]
  },
  {
   "cell_type": "code",
   "execution_count": 2,
   "metadata": {},
   "outputs": [],
   "source": [
    "# List to store song data\n",
    "data = []\n",
    "\n",
    "# Iterate through playlist URIs\n",
    "for link in links:\n",
    "    # Get playlist tracks\n",
    "    playlist = sp.playlist(link)\n",
    "    tracks = playlist['tracks']['items']\n",
    "\n",
    "    # Iterate through tracks\n",
    "    for track in tracks:\n",
    "        # Get track details\n",
    "        song_name = track['track']['name']\n",
    "        artist = track['track']['artists'][0]['name']\n",
    "        artist_id = track['track']['artists'][0]['id']\n",
    "        genres = extract_genres(artist_id)\n",
    "        release_date = track['track']['album']['release_date']\n",
    "        track_id = track['track']['id']\n",
    "        \n",
    "        try:\n",
    "            # Get audio features\n",
    "            audio_features = sp.audio_features(track['track']['id'])\n",
    "\n",
    "            # Check if audio_features is not None and non-empty\n",
    "            if audio_features and len(audio_features) > 0:\n",
    "                audio_features = audio_features[0]\n",
    "                danceability = audio_features['danceability']\n",
    "                energy = audio_features['energy']\n",
    "                key = audio_features['key']\n",
    "                loudness = audio_features['loudness']\n",
    "                mode = audio_features['mode']\n",
    "                speechiness = audio_features['speechiness']\n",
    "                acousticness = audio_features['acousticness']\n",
    "                instrumentalness = audio_features['instrumentalness']\n",
    "                liveness = audio_features['liveness']\n",
    "                valence = audio_features['valence']\n",
    "                tempo = audio_features['tempo']\n",
    "                duration_ms = audio_features['duration_ms']\n",
    "                time_signature = audio_features['time_signature']\n",
    "\n",
    "                # Append to song_data list\n",
    "                data.append([song_name, artist, genres, release_date, danceability, energy, key, loudness, mode,\n",
    "                                  speechiness, acousticness, instrumentalness, liveness, valence, tempo, duration_ms,\n",
    "                                  time_signature,track_id])\n",
    "        except:\n",
    "            # If audio features cannot be fetched, skip adding this song data\n",
    "            pass\n",
    "\n",
    "# Create a DataFrame from the song_data list\n",
    "df = pd.DataFrame(data, columns=['Song Name', 'Artist', 'Genres', 'Release Date', 'Danceability', 'Energy',\n",
    "                                      'Key', 'Loudness', 'Mode', 'Speechiness', 'Acousticness', 'Instrumentalness',\n",
    "                                      'Liveness', 'Valence', 'Tempo', 'Duration_ms', 'Time_signature','Track ID'])\n",
    "\n",
    "# Save DataFrame to CSV file\n",
    "df.to_csv('data_final.csv', index=False)"
   ]
  },
  {
   "cell_type": "markdown",
   "metadata": {},
   "source": [
    "[1] M. Tingle, “Getting Started with Spotify’s API & Spotipy,” Medium, Oct. 03, 2019. https://medium.com/@maxtingle/getting-started-with-spotifys-api-spotipy-197c3dc6353b \n",
    "\n",
    "[2] C. Watts, “Extracting Song Data From the Spotify API Using Python,” Medium, Feb. 10, 2022. https://towardsdatascience.com/extracting-song-data-from-the-spotify-api-using-python-b1e79388d50\n",
    "\n",
    "[3]“Spotify Music API - Data Extraction - Part1,” kaggle.com. https://www.kaggle.com/code/pavansanagapati/spotify-music-api-data-extraction-part1 (accessed Aug. 11, 2023).\n",
    "\n",
    "[4] Spotify, “Spotify,” Spotify, 2023. https://open.spotify.com/\n",
    "\n",
    "[5] “Get track’s audio features,” Web API Reference | Spotify for Developers, https://developer.spotify.com/documentation/web-api/reference/get-audio-features (accessed Aug. 12, 2023). \n"
   ]
  }
 ],
 "metadata": {
  "colab": {
   "provenance": []
  },
  "kernelspec": {
   "display_name": "Python 3 (ipykernel)",
   "language": "python",
   "name": "python3"
  },
  "language_info": {
   "codemirror_mode": {
    "name": "ipython",
    "version": 3
   },
   "file_extension": ".py",
   "mimetype": "text/x-python",
   "name": "python",
   "nbconvert_exporter": "python",
   "pygments_lexer": "ipython3",
   "version": "3.11.3"
  }
 },
 "nbformat": 4,
 "nbformat_minor": 1
}
